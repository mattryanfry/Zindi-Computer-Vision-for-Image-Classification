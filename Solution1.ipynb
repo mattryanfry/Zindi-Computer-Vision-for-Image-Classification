{
 "cells": [
  {
   "cell_type": "markdown",
   "metadata": {},
   "source": [
    "# Zindi:Computer Vision for Image Classification"
   ]
  },
  {
   "cell_type": "markdown",
   "metadata": {},
   "source": [
    "Initial Code:\n",
    "https://towardsdatascience.com/solving-a-simple-classification-problem-with-python-fruits-lovers-edition-d20ab6b071d2\n",
    "Parameter Tuning for GradientBoostingClassifier:\n",
    "https://www.analyticsvidhya.com/blog/2016/02/complete-guide-parameter-tuning-gradient-boosting-gbm-python/"
   ]
  },
  {
   "cell_type": "code",
   "execution_count": 2,
   "metadata": {},
   "outputs": [
    {
     "data": {
      "text/html": [
       "<div>\n",
       "<style scoped>\n",
       "    .dataframe tbody tr th:only-of-type {\n",
       "        vertical-align: middle;\n",
       "    }\n",
       "\n",
       "    .dataframe tbody tr th {\n",
       "        vertical-align: top;\n",
       "    }\n",
       "\n",
       "    .dataframe thead th {\n",
       "        text-align: right;\n",
       "    }\n",
       "</style>\n",
       "<table border=\"1\" class=\"dataframe\">\n",
       "  <thead>\n",
       "    <tr style=\"text-align: right;\">\n",
       "      <th></th>\n",
       "      <th>REGION-CENTROID-COL</th>\n",
       "      <th>REGION-CENTROID-ROW</th>\n",
       "      <th>REGION-PIXEL-COUNT</th>\n",
       "      <th>SHORT-LINE-DENSITY-5</th>\n",
       "      <th>SHORT-LINE-DENSITY-2</th>\n",
       "      <th>VEDGE-MEAN</th>\n",
       "      <th>VEDGE-SD</th>\n",
       "      <th>HEDGE-MEAN</th>\n",
       "      <th>HEDGE-SD</th>\n",
       "      <th>INTENSITY-MEAN</th>\n",
       "      <th>RAWRED-MEAN</th>\n",
       "      <th>RAWBLUE-MEAN</th>\n",
       "      <th>RAWGREEN-MEAN</th>\n",
       "      <th>EXRED-MEAN</th>\n",
       "      <th>EXBLUE-MEAN</th>\n",
       "      <th>EXGREEN-MEAN</th>\n",
       "      <th>VALUE-MEAN</th>\n",
       "      <th>SATURATION-MEAN</th>\n",
       "      <th>HUE-MEAN</th>\n",
       "      <th>CLASS</th>\n",
       "    </tr>\n",
       "  </thead>\n",
       "  <tbody>\n",
       "    <tr>\n",
       "      <th>0</th>\n",
       "      <td>123.0</td>\n",
       "      <td>152.0</td>\n",
       "      <td>9</td>\n",
       "      <td>0.0</td>\n",
       "      <td>0.0</td>\n",
       "      <td>0.000000</td>\n",
       "      <td>0.000000</td>\n",
       "      <td>0.000000</td>\n",
       "      <td>0.000000</td>\n",
       "      <td>0.000000</td>\n",
       "      <td>0.000000</td>\n",
       "      <td>0.000000</td>\n",
       "      <td>0.000000</td>\n",
       "      <td>0.000000</td>\n",
       "      <td>0.000000</td>\n",
       "      <td>0.000000</td>\n",
       "      <td>0.000000</td>\n",
       "      <td>0.000000</td>\n",
       "      <td>0.000000</td>\n",
       "      <td>0</td>\n",
       "    </tr>\n",
       "    <tr>\n",
       "      <th>1</th>\n",
       "      <td>226.0</td>\n",
       "      <td>110.0</td>\n",
       "      <td>9</td>\n",
       "      <td>0.0</td>\n",
       "      <td>0.0</td>\n",
       "      <td>0.333333</td>\n",
       "      <td>0.088889</td>\n",
       "      <td>0.500000</td>\n",
       "      <td>0.211111</td>\n",
       "      <td>1.666667</td>\n",
       "      <td>0.111111</td>\n",
       "      <td>4.444445</td>\n",
       "      <td>0.444444</td>\n",
       "      <td>-4.666666</td>\n",
       "      <td>8.333333</td>\n",
       "      <td>-3.666667</td>\n",
       "      <td>4.444445</td>\n",
       "      <td>0.977778</td>\n",
       "      <td>-2.155984</td>\n",
       "      <td>1</td>\n",
       "    </tr>\n",
       "    <tr>\n",
       "      <th>2</th>\n",
       "      <td>121.0</td>\n",
       "      <td>60.0</td>\n",
       "      <td>9</td>\n",
       "      <td>0.0</td>\n",
       "      <td>0.0</td>\n",
       "      <td>2.277778</td>\n",
       "      <td>2.329629</td>\n",
       "      <td>2.888889</td>\n",
       "      <td>2.874074</td>\n",
       "      <td>26.740740</td>\n",
       "      <td>24.666666</td>\n",
       "      <td>35.222220</td>\n",
       "      <td>20.333334</td>\n",
       "      <td>-6.222222</td>\n",
       "      <td>25.444445</td>\n",
       "      <td>-19.222221</td>\n",
       "      <td>35.222220</td>\n",
       "      <td>0.422300</td>\n",
       "      <td>-1.776113</td>\n",
       "      <td>2</td>\n",
       "    </tr>\n",
       "    <tr>\n",
       "      <th>3</th>\n",
       "      <td>96.0</td>\n",
       "      <td>84.0</td>\n",
       "      <td>9</td>\n",
       "      <td>0.0</td>\n",
       "      <td>0.0</td>\n",
       "      <td>1.500000</td>\n",
       "      <td>1.277777</td>\n",
       "      <td>1.611111</td>\n",
       "      <td>2.285188</td>\n",
       "      <td>23.851852</td>\n",
       "      <td>23.555555</td>\n",
       "      <td>30.000000</td>\n",
       "      <td>18.000000</td>\n",
       "      <td>-0.888889</td>\n",
       "      <td>18.444445</td>\n",
       "      <td>-17.555555</td>\n",
       "      <td>30.000000</td>\n",
       "      <td>0.398791</td>\n",
       "      <td>-1.598867</td>\n",
       "      <td>2</td>\n",
       "    </tr>\n",
       "    <tr>\n",
       "      <th>4</th>\n",
       "      <td>103.0</td>\n",
       "      <td>64.0</td>\n",
       "      <td>9</td>\n",
       "      <td>0.0</td>\n",
       "      <td>0.0</td>\n",
       "      <td>0.666667</td>\n",
       "      <td>0.699205</td>\n",
       "      <td>1.333331</td>\n",
       "      <td>0.918936</td>\n",
       "      <td>108.777780</td>\n",
       "      <td>96.333336</td>\n",
       "      <td>126.222220</td>\n",
       "      <td>103.777780</td>\n",
       "      <td>-37.333332</td>\n",
       "      <td>52.333332</td>\n",
       "      <td>-15.000000</td>\n",
       "      <td>126.222220</td>\n",
       "      <td>0.236797</td>\n",
       "      <td>-2.355443</td>\n",
       "      <td>3</td>\n",
       "    </tr>\n",
       "  </tbody>\n",
       "</table>\n",
       "</div>"
      ],
      "text/plain": [
       "   REGION-CENTROID-COL  REGION-CENTROID-ROW  REGION-PIXEL-COUNT  \\\n",
       "0                123.0                152.0                   9   \n",
       "1                226.0                110.0                   9   \n",
       "2                121.0                 60.0                   9   \n",
       "3                 96.0                 84.0                   9   \n",
       "4                103.0                 64.0                   9   \n",
       "\n",
       "   SHORT-LINE-DENSITY-5  SHORT-LINE-DENSITY-2  VEDGE-MEAN  VEDGE-SD  \\\n",
       "0                   0.0                   0.0    0.000000  0.000000   \n",
       "1                   0.0                   0.0    0.333333  0.088889   \n",
       "2                   0.0                   0.0    2.277778  2.329629   \n",
       "3                   0.0                   0.0    1.500000  1.277777   \n",
       "4                   0.0                   0.0    0.666667  0.699205   \n",
       "\n",
       "   HEDGE-MEAN  HEDGE-SD  INTENSITY-MEAN  RAWRED-MEAN  RAWBLUE-MEAN  \\\n",
       "0    0.000000  0.000000        0.000000     0.000000      0.000000   \n",
       "1    0.500000  0.211111        1.666667     0.111111      4.444445   \n",
       "2    2.888889  2.874074       26.740740    24.666666     35.222220   \n",
       "3    1.611111  2.285188       23.851852    23.555555     30.000000   \n",
       "4    1.333331  0.918936      108.777780    96.333336    126.222220   \n",
       "\n",
       "   RAWGREEN-MEAN  EXRED-MEAN  EXBLUE-MEAN  EXGREEN-MEAN  VALUE-MEAN  \\\n",
       "0       0.000000    0.000000     0.000000      0.000000    0.000000   \n",
       "1       0.444444   -4.666666     8.333333     -3.666667    4.444445   \n",
       "2      20.333334   -6.222222    25.444445    -19.222221   35.222220   \n",
       "3      18.000000   -0.888889    18.444445    -17.555555   30.000000   \n",
       "4     103.777780  -37.333332    52.333332    -15.000000  126.222220   \n",
       "\n",
       "   SATURATION-MEAN  HUE-MEAN  CLASS  \n",
       "0         0.000000  0.000000      0  \n",
       "1         0.977778 -2.155984      1  \n",
       "2         0.422300 -1.776113      2  \n",
       "3         0.398791 -1.598867      2  \n",
       "4         0.236797 -2.355443      3  "
      ]
     },
     "execution_count": 2,
     "metadata": {},
     "output_type": "execute_result"
    }
   ],
   "source": [
    "# Start\n",
    "import pandas as pd\n",
    "import matplotlib.pyplot as plt\n",
    "images = pd.read_csv('train.csv')\n",
    "images.head()"
   ]
  },
  {
   "cell_type": "code",
   "execution_count": 3,
   "metadata": {
    "scrolled": true
   },
   "outputs": [
    {
     "name": "stdout",
     "output_type": "stream",
     "text": [
      "(210, 20)\n"
     ]
    }
   ],
   "source": [
    "print(images.shape)"
   ]
  },
  {
   "cell_type": "code",
   "execution_count": 4,
   "metadata": {},
   "outputs": [
    {
     "name": "stdout",
     "output_type": "stream",
     "text": [
      "[0 1 2 3 4 5 6]\n"
     ]
    }
   ],
   "source": [
    "print(images['CLASS'].unique())"
   ]
  },
  {
   "cell_type": "code",
   "execution_count": 5,
   "metadata": {},
   "outputs": [
    {
     "name": "stdout",
     "output_type": "stream",
     "text": [
      "CLASS\n",
      "0    30\n",
      "1    30\n",
      "2    30\n",
      "3    30\n",
      "4    30\n",
      "5    30\n",
      "6    30\n",
      "dtype: int64\n"
     ]
    }
   ],
   "source": [
    "print(images.groupby('CLASS').size())"
   ]
  },
  {
   "cell_type": "code",
   "execution_count": 6,
   "metadata": {},
   "outputs": [
    {
     "data": {
      "image/png": "[encoded data removed]",
      "text/plain": [
       "<Figure size 432x288 with 1 Axes>"
      ]
     },
     "metadata": {
      "needs_background": "light"
     },
     "output_type": "display_data"
    }
   ],
   "source": [
    "import seaborn as sns\n",
    "sns.countplot(images['CLASS'],label=\"Count\")\n",
    "plt.show()"
   ]
  },
  {
   "cell_type": "code",
   "execution_count": 7,
   "metadata": {},
   "outputs": [
    {
     "name": "stdout",
     "output_type": "stream",
     "text": [
      "       REGION-CENTROID-COL  REGION-CENTROID-ROW  REGION-PIXEL-COUNT  \\\n",
      "count           210.000000           210.000000               210.0   \n",
      "mean            124.647619           122.757143                 9.0   \n",
      "std              74.104024            58.139686                 0.0   \n",
      "min               1.000000            11.000000                 9.0   \n",
      "25%              60.500000            81.500000                 9.0   \n",
      "50%             123.500000           121.500000                 9.0   \n",
      "75%             189.750000           174.500000                 9.0   \n",
      "max             252.000000           250.000000                 9.0   \n",
      "\n",
      "       SHORT-LINE-DENSITY-5  SHORT-LINE-DENSITY-2  VEDGE-MEAN    VEDGE-SD  \\\n",
      "count            210.000000            210.000000  210.000000  210.000000   \n",
      "mean               0.008466              0.006349    1.925132    5.719529   \n",
      "std                0.029549              0.030077    3.158211   43.495942   \n",
      "min                0.000000              0.000000    0.000000    0.000000   \n",
      "25%                0.000000              0.000000    0.666667    0.400921   \n",
      "50%                0.000000              0.000000    1.222222    0.828695   \n",
      "75%                0.000000              0.000000    1.888890    1.676634   \n",
      "max                0.111111              0.222222   25.500000  572.996400   \n",
      "\n",
      "       HEDGE-MEAN     HEDGE-SD  INTENSITY-MEAN  RAWRED-MEAN  RAWBLUE-MEAN  \\\n",
      "count  210.000000   210.000000      210.000000   210.000000    210.000000   \n",
      "mean     2.604233    11.638377       37.091005    32.967725     44.011112   \n",
      "std      4.798268    97.390023       38.677168    35.540563     43.804447   \n",
      "min      0.000000     0.000000        0.000000     0.000000      0.000000   \n",
      "25%      0.777779     0.410816        6.453704     7.000000      8.277778   \n",
      "50%      1.388889     0.913176       21.314816    18.611112     26.833334   \n",
      "75%      2.597221     1.980485       52.629629    46.750000     64.194447   \n",
      "max     44.722225  1386.329200      143.444440   136.888890    150.888890   \n",
      "\n",
      "       RAWGREEN-MEAN  EXRED-MEAN  EXBLUE-MEAN  EXGREEN-MEAN  VALUE-MEAN  \\\n",
      "count     210.000000  210.000000   210.000000    210.000000  210.000000   \n",
      "mean       34.294180  -12.369841    20.760317     -8.390476   44.888360   \n",
      "std        37.057003   11.559599    18.761842     11.003746   43.235182   \n",
      "min         0.000000  -48.222220    -9.666667    -30.555555    0.000000   \n",
      "25%         3.805555  -18.111110     4.111111    -15.750000   10.527778   \n",
      "50%        20.000000  -10.333333    19.555556     -9.888889   28.388890   \n",
      "75%        46.472223   -4.666666    34.333332     -3.722222   64.194447   \n",
      "max       142.555560    5.777778    78.777780     21.888890  150.888890   \n",
      "\n",
      "       SATURATION-MEAN    HUE-MEAN       CLASS  \n",
      "count       210.000000  210.000000  210.000000  \n",
      "mean          0.423230   -1.340397    3.000000  \n",
      "std           0.227333    1.559405    2.004779  \n",
      "min           0.000000   -2.530950    0.000000  \n",
      "25%           0.275722   -2.187112    1.000000  \n",
      "50%           0.365455   -2.044163    3.000000  \n",
      "75%           0.539738   -1.429800    5.000000  \n",
      "max           1.000000    2.864931    6.000000  \n"
     ]
    }
   ],
   "source": [
    "print (images.describe())"
   ]
  },
  {
   "cell_type": "code",
   "execution_count": 8,
   "metadata": {},
   "outputs": [
    {
     "name": "stdout",
     "output_type": "stream",
     "text": [
      "['REGION-CENTROID-COL', 'REGION-CENTROID-ROW', 'SHORT-LINE-DENSITY-5', 'SHORT-LINE-DENSITY-2', 'VEDGE-MEAN', 'VEDGE-SD', 'HEDGE-MEAN', 'HEDGE-SD', 'INTENSITY-MEAN', 'RAWRED-MEAN', 'RAWBLUE-MEAN', 'RAWGREEN-MEAN', 'EXRED-MEAN', 'EXBLUE-MEAN', 'EXGREEN-MEAN', 'VALUE-MEAN', 'SATURATION-MEAN', 'HUE-MEAN']\n"
     ]
    }
   ],
   "source": [
    "feature_names = list(images.columns.values)\n",
    "feature_names.remove('CLASS')\n",
    "feature_names.remove('REGION-PIXEL-COUNT')\n",
    "X = images[feature_names]\n",
    "y = images['CLASS']\n",
    "print(feature_names)\n"
   ]
  },
  {
   "cell_type": "markdown",
   "metadata": {},
   "source": [
    "### Create Training and Test Sets and Apply Scaling"
   ]
  },
  {
   "cell_type": "code",
   "execution_count": 9,
   "metadata": {},
   "outputs": [],
   "source": [
    "from sklearn.model_selection import train_test_split\n",
    "X_train, X_test, y_train, y_test = train_test_split(X, y, random_state=0)\n",
    "from sklearn.preprocessing import MinMaxScaler\n",
    "scaler = MinMaxScaler()\n",
    "X_train = scaler.fit_transform(X_train)\n",
    "X_test = scaler.transform(X_test)"
   ]
  },
  {
   "cell_type": "markdown",
   "metadata": {},
   "source": [
    "### Test Out Different methods"
   ]
  },
  {
   "cell_type": "code",
   "execution_count": 10,
   "metadata": {},
   "outputs": [
    {
     "name": "stdout",
     "output_type": "stream",
     "text": [
      "Accuracy of Logistic regression classifier on training set: 0.87\n",
      "Accuracy of Logistic regression classifier on test set: 0.87\n"
     ]
    },
    {
     "name": "stderr",
     "output_type": "stream",
     "text": [
      "C:\\Users\\Matthew.Fry\\AppData\\Local\\Continuum\\anaconda3\\lib\\site-packages\\sklearn\\linear_model\\logistic.py:433: FutureWarning: Default solver will be changed to 'lbfgs' in 0.22. Specify a solver to silence this warning.\n",
      "  FutureWarning)\n",
      "C:\\Users\\Matthew.Fry\\AppData\\Local\\Continuum\\anaconda3\\lib\\site-packages\\sklearn\\linear_model\\logistic.py:460: FutureWarning: Default multi_class will be changed to 'auto' in 0.22. Specify the multi_class option to silence this warning.\n",
      "  \"this warning.\", FutureWarning)\n"
     ]
    }
   ],
   "source": [
    "from sklearn.linear_model import LogisticRegression\n",
    "logreg = LogisticRegression()\n",
    "logreg.fit(X_train, y_train)\n",
    "print('Accuracy of Logistic regression classifier on training set: {:.2f}'\n",
    "     .format(logreg.score(X_train, y_train)))\n",
    "print('Accuracy of Logistic regression classifier on test set: {:.2f}'\n",
    "     .format(logreg.score(X_test, y_test)))"
   ]
  },
  {
   "cell_type": "code",
   "execution_count": 11,
   "metadata": {},
   "outputs": [
    {
     "name": "stdout",
     "output_type": "stream",
     "text": [
      "Accuracy of Decision Tree classifier on training set: 1.00\n",
      "Accuracy of Decision Tree classifier on test set: 0.96\n"
     ]
    }
   ],
   "source": [
    "from sklearn.tree import DecisionTreeClassifier\n",
    "clf = DecisionTreeClassifier().fit(X_train, y_train)\n",
    "print('Accuracy of Decision Tree classifier on training set: {:.2f}'\n",
    "     .format(clf.score(X_train, y_train)))\n",
    "print('Accuracy of Decision Tree classifier on test set: {:.2f}'\n",
    "     .format(clf.score(X_test, y_test)))"
   ]
  },
  {
   "cell_type": "code",
   "execution_count": 35,
   "metadata": {},
   "outputs": [
    {
     "name": "stdout",
     "output_type": "stream",
     "text": [
      "Accuracy of K-NN classifier on training set: 0.94\n",
      "Accuracy of K-NN classifier on test set: 0.96\n"
     ]
    }
   ],
   "source": [
    "from sklearn.neighbors import KNeighborsClassifier\n",
    "knn = KNeighborsClassifier(n_neighbors=4,  leaf_size=20, p=1)\n",
    "knn.fit(X_train, y_train)\n",
    "print('Accuracy of K-NN classifier on training set: {:.2f}'\n",
    "     .format(knn.score(X_train, y_train)))\n",
    "print('Accuracy of K-NN classifier on test set: {:.2f}'\n",
    "     .format(knn.score(X_test, y_test)))"
   ]
  },
  {
   "cell_type": "code",
   "execution_count": 13,
   "metadata": {},
   "outputs": [
    {
     "name": "stdout",
     "output_type": "stream",
     "text": [
      "Accuracy of LDA classifier on training set: 0.91\n",
      "Accuracy of LDA classifier on test set: 0.89\n"
     ]
    },
    {
     "name": "stderr",
     "output_type": "stream",
     "text": [
      "C:\\Users\\Matthew.Fry\\AppData\\Local\\Continuum\\anaconda3\\lib\\site-packages\\sklearn\\discriminant_analysis.py:388: UserWarning: Variables are collinear.\n",
      "  warnings.warn(\"Variables are collinear.\")\n"
     ]
    }
   ],
   "source": [
    "from sklearn.discriminant_analysis import LinearDiscriminantAnalysis\n",
    "lda = LinearDiscriminantAnalysis()\n",
    "lda.fit(X_train, y_train)\n",
    "print('Accuracy of LDA classifier on training set: {:.2f}'\n",
    "     .format(lda.score(X_train, y_train)))\n",
    "print('Accuracy of LDA classifier on test set: {:.2f}'\n",
    "     .format(lda.score(X_test, y_test)))"
   ]
  },
  {
   "cell_type": "code",
   "execution_count": 14,
   "metadata": {},
   "outputs": [
    {
     "name": "stdout",
     "output_type": "stream",
     "text": [
      "Accuracy of GNB classifier on training set: 0.84\n",
      "Accuracy of GNB classifier on test set: 0.70\n"
     ]
    }
   ],
   "source": [
    "from sklearn.naive_bayes import GaussianNB\n",
    "gnb = GaussianNB()\n",
    "gnb.fit(X_train, y_train)\n",
    "print('Accuracy of GNB classifier on training set: {:.2f}'\n",
    "     .format(gnb.score(X_train, y_train)))\n",
    "print('Accuracy of GNB classifier on test set: {:.2f}'\n",
    "     .format(gnb.score(X_test, y_test)))"
   ]
  },
  {
   "cell_type": "code",
   "execution_count": 15,
   "metadata": {},
   "outputs": [
    {
     "name": "stdout",
     "output_type": "stream",
     "text": [
      "Accuracy of SVM classifier on training set: 0.54\n",
      "Accuracy of SVM classifier on test set: 0.55\n"
     ]
    },
    {
     "name": "stderr",
     "output_type": "stream",
     "text": [
      "C:\\Users\\Matthew.Fry\\AppData\\Local\\Continuum\\anaconda3\\lib\\site-packages\\sklearn\\svm\\base.py:196: FutureWarning: The default value of gamma will change from 'auto' to 'scale' in version 0.22 to account better for unscaled features. Set gamma explicitly to 'auto' or 'scale' to avoid this warning.\n",
      "  \"avoid this warning.\", FutureWarning)\n"
     ]
    }
   ],
   "source": [
    "from sklearn.svm import SVC\n",
    "svm = SVC()\n",
    "svm.fit(X_train, y_train)\n",
    "print('Accuracy of SVM classifier on training set: {:.2f}'\n",
    "     .format(svm.score(X_train, y_train)))\n",
    "print('Accuracy of SVM classifier on test set: {:.2f}'\n",
    "     .format(svm.score(X_test, y_test)))"
   ]
  },
  {
   "cell_type": "code",
   "execution_count": 87,
   "metadata": {},
   "outputs": [
    {
     "name": "stdout",
     "output_type": "stream",
     "text": [
      "Accuracy of GBC classifier on training set: 0.99\n",
      "Accuracy of GBC classifier on test set: 0.96\n"
     ]
    }
   ],
   "source": [
    "from sklearn.ensemble import GradientBoostingClassifier\n",
    "gbc = GradientBoostingClassifier(n_estimators=150,learning_rate=0.01,max_depth=4, random_state=0,\n",
    "                                 min_samples_split = 22, max_features = \"sqrt\" ,subsample = 0.8).fit(X_train, y_train)\n",
    "print('Accuracy of GBC classifier on training set: {:.2f}'\n",
    "     .format(gbc.score(X_train, y_train)))\n",
    "print('Accuracy of GBC classifier on test set: {:.2f}'\n",
    "     .format(gbc.score(X_test, y_test)))"
   ]
  },
  {
   "cell_type": "code",
   "execution_count": 101,
   "metadata": {},
   "outputs": [
    {
     "name": "stdout",
     "output_type": "stream",
     "text": [
      "Accuracy of GBr classifier on training set: 1.00\n",
      "Accuracy of GBr classifier on test set: 0.69\n"
     ]
    }
   ],
   "source": [
    "from sklearn.ensemble import GradientBoostingRegressor\n",
    "gbr = GradientBoostingRegressor(n_estimators=1000, learning_rate=0.01,max_depth=5,random_state=0,loss='ls').fit(X_train, y_train)\n",
    "print('Accuracy of GBr classifier on training set: {:.2f}'\n",
    "     .format(gbr.score(X_train, y_train)))\n",
    "print('Accuracy of GBr classifier on test set: {:.2f}'\n",
    "     .format(gbr.score(X_test, y_test)))"
   ]
  },
  {
   "cell_type": "markdown",
   "metadata": {},
   "source": [
    "GradientBoostingClassifier is looking the best. I tuned the parameters a bit."
   ]
  },
  {
   "cell_type": "code",
   "execution_count": 89,
   "metadata": {},
   "outputs": [
    {
     "name": "stdout",
     "output_type": "stream",
     "text": [
      "[[5 0 1 0 0 0 1]\n",
      " [0 9 0 0 0 0 0]\n",
      " [0 0 8 0 0 0 0]\n",
      " [0 0 0 8 0 0 0]\n",
      " [0 0 0 0 7 0 0]\n",
      " [0 0 0 0 0 9 0]\n",
      " [0 0 0 0 0 0 5]]\n",
      "              precision    recall  f1-score   support\n",
      "\n",
      "           0       1.00      0.71      0.83         7\n",
      "           1       1.00      1.00      1.00         9\n",
      "           2       0.89      1.00      0.94         8\n",
      "           3       1.00      1.00      1.00         8\n",
      "           4       1.00      1.00      1.00         7\n",
      "           5       1.00      1.00      1.00         9\n",
      "           6       0.83      1.00      0.91         5\n",
      "\n",
      "   micro avg       0.96      0.96      0.96        53\n",
      "   macro avg       0.96      0.96      0.95        53\n",
      "weighted avg       0.97      0.96      0.96        53\n",
      "\n"
     ]
    }
   ],
   "source": [
    "from sklearn.metrics import classification_report\n",
    "from sklearn.metrics import confusion_matrix\n",
    "pred = gbc.predict(X_test)\n",
    "print(confusion_matrix(y_test, pred))\n",
    "print(classification_report(y_test, pred))"
   ]
  },
  {
   "cell_type": "markdown",
   "metadata": {},
   "source": [
    "### Now to appply the model to the data for submission"
   ]
  },
  {
   "cell_type": "code",
   "execution_count": 91,
   "metadata": {},
   "outputs": [
    {
     "data": {
      "text/plain": [
       "array([[0.21265895, 0.2114    , 0.35239562, ..., 0.05300628, 0.0546793 ,\n",
       "        0.06279985],\n",
       "       [0.07541051, 0.10173399, 0.05533516, ..., 0.45880421, 0.05365672,\n",
       "        0.20626593],\n",
       "       [0.02317992, 0.01995377, 0.02157257, ..., 0.02152242, 0.01559151,\n",
       "        0.037654  ],\n",
       "       ...,\n",
       "       [0.03040993, 0.01940438, 0.01749113, ..., 0.01765193, 0.01743912,\n",
       "        0.06849361],\n",
       "       [0.03162687, 0.02139624, 0.01906975, ..., 0.0186799 , 0.86031689,\n",
       "        0.03139814],\n",
       "       [0.02158513, 0.02101036, 0.01933434, ..., 0.86113104, 0.01852112,\n",
       "        0.0398913 ]])"
      ]
     },
     "execution_count": 91,
     "metadata": {},
     "output_type": "execute_result"
    }
   ],
   "source": [
    "trained_model=gbc.fit(X_train, y_train)\n",
    "images_sub = pd.read_csv('test.csv')\n",
    "X_sub = images_sub[feature_names]\n",
    "X_sub = scaler.transform(X_sub)\n",
    "result_matrix=trained_model.predict(X_sub)\n",
    "y_sub=images_sub['id']\n",
    "trained_model.predict_proba(X_sub)"
   ]
  },
  {
   "cell_type": "code",
   "execution_count": 93,
   "metadata": {},
   "outputs": [],
   "source": [
    "Submission=pd.DataFrame(trained_model.predict_proba(X_sub))\n",
    "#Submission=Submission.assign(id=y_sub)\n",
    "Submission.columns=[\"CLASS_0\",\"CLASS_1\",\"CLASS_2\",\"CLASS_3\",\"CLASS_4\",\"CLASS_5\",\"CLASS_6\"]\n",
    "Submission.head()\n",
    "Submission.to_csv('solution2a.csv')"
   ]
  }
 ],
 "metadata": {
  "kernelspec": {
   "display_name": "Python 3",
   "language": "python",
   "name": "python3"
  },
  "language_info": {
   "codemirror_mode": {
    "name": "ipython",
    "version": 3
   },
   "file_extension": ".py",
   "mimetype": "text/x-python",
   "name": "python",
   "nbconvert_exporter": "python",
   "pygments_lexer": "ipython3",
   "version": "3.7.3"
  }
 },
 "nbformat": 4,
 "nbformat_minor": 2
}

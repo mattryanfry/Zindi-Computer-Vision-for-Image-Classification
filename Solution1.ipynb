{
 "cells": [
  {
   "cell_type": "markdown",
   "metadata": {},
   "source": [
    "# Zindi:Computer Vision for Image Classification"
   ]
  },
  {
   "cell_type": "markdown",
   "metadata": {},
   "source": [
    "Initial Code:\n",
    "https://towardsdatascience.com/solving-a-simple-classification-problem-with-python-fruits-lovers-edition-d20ab6b071d2\n",
    "Parameter Tuning for GradientBoostingClassifier:\n",
    "https://www.analyticsvidhya.com/blog/2016/02/complete-guide-parameter-tuning-gradient-boosting-gbm-python/"
   ]
  },
  {
   "cell_type": "code",
   "execution_count": 2,
   "metadata": {},
   "outputs": [
    {
     "data": {
      "text/html": [
       "<div>\n",
       "<style scoped>\n",
       "    .dataframe tbody tr th:only-of-type {\n",
       "        vertical-align: middle;\n",
       "    }\n",
       "\n",
       "    .dataframe tbody tr th {\n",
       "        vertical-align: top;\n",
       "    }\n",
       "\n",
       "    .dataframe thead th {\n",
       "        text-align: right;\n",
       "    }\n",
       "</style>\n",
       "<table border=\"1\" class=\"dataframe\">\n",
       "  <thead>\n",
       "    <tr style=\"text-align: right;\">\n",
       "      <th></th>\n",
       "      <th>REGION-CENTROID-COL</th>\n",
       "      <th>REGION-CENTROID-ROW</th>\n",
       "      <th>REGION-PIXEL-COUNT</th>\n",
       "      <th>SHORT-LINE-DENSITY-5</th>\n",
       "      <th>SHORT-LINE-DENSITY-2</th>\n",
       "      <th>VEDGE-MEAN</th>\n",
       "      <th>VEDGE-SD</th>\n",
       "      <th>HEDGE-MEAN</th>\n",
       "      <th>HEDGE-SD</th>\n",
       "      <th>INTENSITY-MEAN</th>\n",
       "      <th>RAWRED-MEAN</th>\n",
       "      <th>RAWBLUE-MEAN</th>\n",
       "      <th>RAWGREEN-MEAN</th>\n",
       "      <th>EXRED-MEAN</th>\n",
       "      <th>EXBLUE-MEAN</th>\n",
       "      <th>EXGREEN-MEAN</th>\n",
       "      <th>VALUE-MEAN</th>\n",
       "      <th>SATURATION-MEAN</th>\n",
       "      <th>HUE-MEAN</th>\n",
       "      <th>CLASS</th>\n",
       "    </tr>\n",
       "  </thead>\n",
       "  <tbody>\n",
       "    <tr>\n",
       "      <th>0</th>\n",
       "      <td>123.0</td>\n",
       "      <td>152.0</td>\n",
       "      <td>9</td>\n",
       "      <td>0.0</td>\n",
       "      <td>0.0</td>\n",
       "      <td>0.000000</td>\n",
       "      <td>0.000000</td>\n",
       "      <td>0.000000</td>\n",
       "      <td>0.000000</td>\n",
       "      <td>0.000000</td>\n",
       "      <td>0.000000</td>\n",
       "      <td>0.000000</td>\n",
       "      <td>0.000000</td>\n",
       "      <td>0.000000</td>\n",
       "      <td>0.000000</td>\n",
       "      <td>0.000000</td>\n",
       "      <td>0.000000</td>\n",
       "      <td>0.000000</td>\n",
       "      <td>0.000000</td>\n",
       "      <td>0</td>\n",
       "    </tr>\n",
       "    <tr>\n",
       "      <th>1</th>\n",
       "      <td>226.0</td>\n",
       "      <td>110.0</td>\n",
       "      <td>9</td>\n",
       "      <td>0.0</td>\n",
       "      <td>0.0</td>\n",
       "      <td>0.333333</td>\n",
       "      <td>0.088889</td>\n",
       "      <td>0.500000</td>\n",
       "      <td>0.211111</td>\n",
       "      <td>1.666667</td>\n",
       "      <td>0.111111</td>\n",
       "      <td>4.444445</td>\n",
       "      <td>0.444444</td>\n",
       "      <td>-4.666666</td>\n",
       "      <td>8.333333</td>\n",
       "      <td>-3.666667</td>\n",
       "      <td>4.444445</td>\n",
       "      <td>0.977778</td>\n",
       "      <td>-2.155984</td>\n",
       "      <td>1</td>\n",
       "    </tr>\n",
       "    <tr>\n",
       "      <th>2</th>\n",
       "      <td>121.0</td>\n",
       "      <td>60.0</td>\n",
       "      <td>9</td>\n",
       "      <td>0.0</td>\n",
       "      <td>0.0</td>\n",
       "      <td>2.277778</td>\n",
       "      <td>2.329629</td>\n",
       "      <td>2.888889</td>\n",
       "      <td>2.874074</td>\n",
       "      <td>26.740740</td>\n",
       "      <td>24.666666</td>\n",
       "      <td>35.222220</td>\n",
       "      <td>20.333334</td>\n",
       "      <td>-6.222222</td>\n",
       "      <td>25.444445</td>\n",
       "      <td>-19.222221</td>\n",
       "      <td>35.222220</td>\n",
       "      <td>0.422300</td>\n",
       "      <td>-1.776113</td>\n",
       "      <td>2</td>\n",
       "    </tr>\n",
       "    <tr>\n",
       "      <th>3</th>\n",
       "      <td>96.0</td>\n",
       "      <td>84.0</td>\n",
       "      <td>9</td>\n",
       "      <td>0.0</td>\n",
       "      <td>0.0</td>\n",
       "      <td>1.500000</td>\n",
       "      <td>1.277777</td>\n",
       "      <td>1.611111</td>\n",
       "      <td>2.285188</td>\n",
       "      <td>23.851852</td>\n",
       "      <td>23.555555</td>\n",
       "      <td>30.000000</td>\n",
       "      <td>18.000000</td>\n",
       "      <td>-0.888889</td>\n",
       "      <td>18.444445</td>\n",
       "      <td>-17.555555</td>\n",
       "      <td>30.000000</td>\n",
       "      <td>0.398791</td>\n",
       "      <td>-1.598867</td>\n",
       "      <td>2</td>\n",
       "    </tr>\n",
       "    <tr>\n",
       "      <th>4</th>\n",
       "      <td>103.0</td>\n",
       "      <td>64.0</td>\n",
       "      <td>9</td>\n",
       "      <td>0.0</td>\n",
       "      <td>0.0</td>\n",
       "      <td>0.666667</td>\n",
       "      <td>0.699205</td>\n",
       "      <td>1.333331</td>\n",
       "      <td>0.918936</td>\n",
       "      <td>108.777780</td>\n",
       "      <td>96.333336</td>\n",
       "      <td>126.222220</td>\n",
       "      <td>103.777780</td>\n",
       "      <td>-37.333332</td>\n",
       "      <td>52.333332</td>\n",
       "      <td>-15.000000</td>\n",
       "      <td>126.222220</td>\n",
       "      <td>0.236797</td>\n",
       "      <td>-2.355443</td>\n",
       "      <td>3</td>\n",
       "    </tr>\n",
       "  </tbody>\n",
       "</table>\n",
       "</div>"
      ],
      "text/plain": [
       "   REGION-CENTROID-COL  REGION-CENTROID-ROW  REGION-PIXEL-COUNT  \\\n",
       "0                123.0                152.0                   9   \n",
       "1                226.0                110.0                   9   \n",
       "2                121.0                 60.0                   9   \n",
       "3                 96.0                 84.0                   9   \n",
       "4                103.0                 64.0                   9   \n",
       "\n",
       "   SHORT-LINE-DENSITY-5  SHORT-LINE-DENSITY-2  VEDGE-MEAN  VEDGE-SD  \\\n",
       "0                   0.0                   0.0    0.000000  0.000000   \n",
       "1                   0.0                   0.0    0.333333  0.088889   \n",
       "2                   0.0                   0.0    2.277778  2.329629   \n",
       "3                   0.0                   0.0    1.500000  1.277777   \n",
       "4                   0.0                   0.0    0.666667  0.699205   \n",
       "\n",
       "   HEDGE-MEAN  HEDGE-SD  INTENSITY-MEAN  RAWRED-MEAN  RAWBLUE-MEAN  \\\n",
       "0    0.000000  0.000000        0.000000     0.000000      0.000000   \n",
       "1    0.500000  0.211111        1.666667     0.111111      4.444445   \n",
       "2    2.888889  2.874074       26.740740    24.666666     35.222220   \n",
       "3    1.611111  2.285188       23.851852    23.555555     30.000000   \n",
       "4    1.333331  0.918936      108.777780    96.333336    126.222220   \n",
       "\n",
       "   RAWGREEN-MEAN  EXRED-MEAN  EXBLUE-MEAN  EXGREEN-MEAN  VALUE-MEAN  \\\n",
       "0       0.000000    0.000000     0.000000      0.000000    0.000000   \n",
       "1       0.444444   -4.666666     8.333333     -3.666667    4.444445   \n",
       "2      20.333334   -6.222222    25.444445    -19.222221   35.222220   \n",
       "3      18.000000   -0.888889    18.444445    -17.555555   30.000000   \n",
       "4     103.777780  -37.333332    52.333332    -15.000000  126.222220   \n",
       "\n",
       "   SATURATION-MEAN  HUE-MEAN  CLASS  \n",
       "0         0.000000  0.000000      0  \n",
       "1         0.977778 -2.155984      1  \n",
       "2         0.422300 -1.776113      2  \n",
       "3         0.398791 -1.598867      2  \n",
       "4         0.236797 -2.355443      3  "
      ]
     },
     "execution_count": 2,
     "metadata": {},
     "output_type": "execute_result"
    }
   ],
   "source": [
    "# Start\n",
    "import pandas as pd\n",
    "import matplotlib.pyplot as plt\n",
    "images = pd.read_csv('train.csv')\n",
    "images.head()"
   ]
  },
  {
   "cell_type": "code",
   "execution_count": 3,
   "metadata": {
    "scrolled": true
   },
   "outputs": [
    {
     "name": "stdout",
     "output_type": "stream",
     "text": [
      "(210, 20)\n"
     ]
    }
   ],
   "source": [
    "print(images.shape)"
   ]
  },
  {
   "cell_type": "code",
   "execution_count": 4,
   "metadata": {},
   "outputs": [
    {
     "name": "stdout",
     "output_type": "stream",
     "text": [
      "[0 1 2 3 4 5 6]\n"
     ]
    }
   ],
   "source": [
    "print(images['CLASS'].unique())"
   ]
  },
  {
   "cell_type": "code",
   "execution_count": 5,
   "metadata": {},
   "outputs": [
    {
     "name": "stdout",
     "output_type": "stream",
     "text": [
      "CLASS\n",
      "0    30\n",
      "1    30\n",
      "2    30\n",
      "3    30\n",
      "4    30\n",
      "5    30\n",
      "6    30\n",
      "dtype: int64\n"
     ]
    }
   ],
   "source": [
    "print(images.groupby('CLASS').size())"
   ]
  },
  {
   "cell_type": "code",
   "execution_count": 6,
   "metadata": {},
   "outputs": [
    {
     "data": {
      "image/png": "[encoded data removed]",
      "text/plain": [
       "<Figure size 432x288 with 1 Axes>"
      ]
     },
     "metadata": {
      "needs_background": "light"
     },
     "output_type": "display_data"
    }
   ],
   "source": [
    "import seaborn as sns\n",
    "sns.countplot(images['CLASS'],label=\"Count\")\n",
    "plt.show()"
   ]
  },
  {
   "cell_type": "code",
   "execution_count": 7,
   "metadata": {},
   "outputs": [
    {
     "name": "stdout",
     "output_type": "stream",
     "text": [
      "       REGION-CENTROID-COL  REGION-CENTROID-ROW  REGION-PIXEL-COUNT  \\\n",
      "count           210.000000           210.000000               210.0   \n",
      "mean            124.647619           122.757143                 9.0   \n",
      "std              74.104024            58.139686                 0.0   \n",
      "min               1.000000            11.000000                 9.0   \n",
      "25%              60.500000            81.500000                 9.0   \n",
      "50%             123.500000           121.500000                 9.0   \n",
      "75%             189.750000           174.500000                 9.0   \n",
      "max             252.000000           250.000000                 9.0   \n",
      "\n",
      "       SHORT-LINE-DENSITY-5  SHORT-LINE-DENSITY-2  VEDGE-MEAN    VEDGE-SD  \\\n",
      "count            210.000000            210.000000  210.000000  210.000000   \n",
      "mean               0.008466              0.006349    1.925132    5.719529   \n",
      "std                0.029549              0.030077    3.158211   43.495942   \n",
      "min                0.000000              0.000000    0.000000    0.000000   \n",
      "25%                0.000000              0.000000    0.666667    0.400921   \n",
      "50%                0.000000              0.000000    1.222222    0.828695   \n",
      "75%                0.000000              0.000000    1.888890    1.676634   \n",
      "max                0.111111              0.222222   25.500000  572.996400   \n",
      "\n",
      "       HEDGE-MEAN     HEDGE-SD  INTENSITY-MEAN  RAWRED-MEAN  RAWBLUE-MEAN  \\\n",
      "count  210.000000   210.000000      210.000000   210.000000    210.000000   \n",
      "mean     2.604233    11.638377       37.091005    32.967725     44.011112   \n",
      "std      4.798268    97.390023       38.677168    35.540563     43.804447   \n",
      "min      0.000000     0.000000        0.000000     0.000000      0.000000   \n",
      "25%      0.777779     0.410816        6.453704     7.000000      8.277778   \n",
      "50%      1.388889     0.913176       21.314816    18.611112     26.833334   \n",
      "75%      2.597221     1.980485       52.629629    46.750000     64.194447   \n",
      "max     44.722225  1386.329200      143.444440   136.888890    150.888890   \n",
      "\n",
      "       RAWGREEN-MEAN  EXRED-MEAN  EXBLUE-MEAN  EXGREEN-MEAN  VALUE-MEAN  \\\n",
      "count     210.000000  210.000000   210.000000    210.000000  210.000000   \n",
      "mean       34.294180  -12.369841    20.760317     -8.390476   44.888360   \n",
      "std        37.057003   11.559599    18.761842     11.003746   43.235182   \n",
      "min         0.000000  -48.222220    -9.666667    -30.555555    0.000000   \n",
      "25%         3.805555  -18.111110     4.111111    -15.750000   10.527778   \n",
      "50%        20.000000  -10.333333    19.555556     -9.888889   28.388890   \n",
      "75%        46.472223   -4.666666    34.333332     -3.722222   64.194447   \n",
      "max       142.555560    5.777778    78.777780     21.888890  150.888890   \n",
      "\n",
      "       SATURATION-MEAN    HUE-MEAN       CLASS  \n",
      "count       210.000000  210.000000  210.000000  \n",
      "mean          0.423230   -1.340397    3.000000  \n",
      "std           0.227333    1.559405    2.004779  \n",
      "min           0.000000   -2.530950    0.000000  \n",
      "25%           0.275722   -2.187112    1.000000  \n",
      "50%           0.365455   -2.044163    3.000000  \n",
      "75%           0.539738   -1.429800    5.000000  \n",
      "max           1.000000    2.864931    6.000000  \n"
     ]
    }
   ],
   "source": [
    "print (images.describe())"
   ]
  },
  {
   "cell_type": "code",
   "execution_count": 8,
   "metadata": {},
   "outputs": [
    {
     "name": "stdout",
     "output_type": "stream",
     "text": [
      "['REGION-CENTROID-COL', 'REGION-CENTROID-ROW', 'SHORT-LINE-DENSITY-5', 'SHORT-LINE-DENSITY-2', 'VEDGE-MEAN', 'VEDGE-SD', 'HEDGE-MEAN', 'HEDGE-SD', 'INTENSITY-MEAN', 'RAWRED-MEAN', 'RAWBLUE-MEAN', 'RAWGREEN-MEAN', 'EXRED-MEAN', 'EXBLUE-MEAN', 'EXGREEN-MEAN', 'VALUE-MEAN', 'SATURATION-MEAN', 'HUE-MEAN']\n"
     ]
    }
   ],
   "source": [
    "feature_names = list(images.columns.values)\n",
    "feature_names.remove('CLASS')\n",
    "feature_names.remove('REGION-PIXEL-COUNT')\n",
    "X = images[feature_names]\n",
    "y = images['CLASS']\n",
    "print(feature_names)\n"
   ]
  },
  {
   "cell_type": "markdown",
   "metadata": {},
   "source": [
    "### Create Training and Test Sets and Apply Scaling"
   ]
  },
  {
   "cell_type": "code",
   "execution_count": 9,
   "metadata": {},
   "outputs": [],
   "source": [
    "from sklearn.model_selection import train_test_split\n",
    "X_train, X_test, y_train, y_test = train_test_split(X, y, random_state=0)\n",
    "from sklearn.preprocessing import MinMaxScaler\n",
    "scaler = MinMaxScaler()\n",
    "X_train = scaler.fit_transform(X_train)\n",
    "X_test = scaler.transform(X_test)"
   ]
  },
  {
   "cell_type": "markdown",
   "metadata": {},
   "source": [
    "### Test Out Different methods"
   ]
  },
  {
   "cell_type": "code",
   "execution_count": 10,
   "metadata": {},
   "outputs": [
    {
     "name": "stdout",
     "output_type": "stream",
     "text": [
      "Accuracy of Logistic regression classifier on training set: 0.87\n",
      "Accuracy of Logistic regression classifier on test set: 0.87\n"
     ]
    },
    {
     "name": "stderr",
     "output_type": "stream",
     "text": [
      "C:\\Users\\Matthew.Fry\\AppData\\Local\\Continuum\\anaconda3\\lib\\site-packages\\sklearn\\linear_model\\logistic.py:433: FutureWarning: Default solver will be changed to 'lbfgs' in 0.22. Specify a solver to silence this warning.\n",
      "  FutureWarning)\n",
      "C:\\Users\\Matthew.Fry\\AppData\\Local\\Continuum\\anaconda3\\lib\\site-packages\\sklearn\\linear_model\\logistic.py:460: FutureWarning: Default multi_class will be changed to 'auto' in 0.22. Specify the multi_class option to silence this warning.\n",
      "  \"this warning.\", FutureWarning)\n"
     ]
    }
   ],
   "source": [
    "from sklearn.linear_model import LogisticRegression\n",
    "logreg = LogisticRegression()\n",
    "logreg.fit(X_train, y_train)\n",
    "print('Accuracy of Logistic regression classifier on training set: {:.2f}'\n",
    "     .format(logreg.score(X_train, y_train)))\n",
    "print('Accuracy of Logistic regression classifier on test set: {:.2f}'\n",
    "     .format(logreg.score(X_test, y_test)))"
   ]
  },
  {
   "cell_type": "code",
   "execution_count": 11,
   "metadata": {},
   "outputs": [
    {
     "name": "stdout",
     "output_type": "stream",
     "text": [
      "Accuracy of Decision Tree classifier on training set: 1.00\n",
      "Accuracy of Decision Tree classifier on test set: 0.96\n"
     ]
    }
   ],
   "source": [
    "from sklearn.tree import DecisionTreeClassifier\n",
    "clf = DecisionTreeClassifier().fit(X_train, y_train)\n",
    "print('Accuracy of Decision Tree classifier on training set: {:.2f}'\n",
    "     .format(clf.score(X_train, y_train)))\n",
    "print('Accuracy of Decision Tree classifier on test set: {:.2f}'\n",
    "     .format(clf.score(X_test, y_test)))"
   ]
  },
  {
   "cell_type": "code",
   "execution_count": 35,
   "metadata": {},
   "outputs": [
    {
     "name": "stdout",
     "output_type": "stream",
     "text": [
      "Accuracy of K-NN classifier on training set: 0.94\n",
      "Accuracy of K-NN classifier on test set: 0.96\n"
     ]
    }
   ],
   "source": [
    "from sklearn.neighbors import KNeighborsClassifier\n",
    "knn = KNeighborsClassifier(n_neighbors=4,  leaf_size=20, p=1)\n",
    "knn.fit(X_train, y_train)\n",
    "print('Accuracy of K-NN classifier on training set: {:.2f}'\n",
    "     .format(knn.score(X_train, y_train)))\n",
    "print('Accuracy of K-NN classifier on test set: {:.2f}'\n",
    "     .format(knn.score(X_test, y_test)))"
   ]
  },
  {
   "cell_type": "code",
   "execution_count": 13,
   "metadata": {},
   "outputs": [
    {
     "name": "stdout",
     "output_type": "stream",
     "text": [
      "Accuracy of LDA classifier on training set: 0.91\n",
      "Accuracy of LDA classifier on test set: 0.89\n"
     ]
    },
    {
     "name": "stderr",
     "output_type": "stream",
     "text": [
      "C:\\Users\\Matthew.Fry\\AppData\\Local\\Continuum\\anaconda3\\lib\\site-packages\\sklearn\\discriminant_analysis.py:388: UserWarning: Variables are collinear.\n",
      "  warnings.warn(\"Variables are collinear.\")\n"
     ]
    }
   ],
   "source": [
    "from sklearn.discriminant_analysis import LinearDiscriminantAnalysis\n",
    "lda = LinearDiscriminantAnalysis()\n",
    "lda.fit(X_train, y_train)\n",
    "print('Accuracy of LDA classifier on training set: {:.2f}'\n",
    "     .format(lda.score(X_train, y_train)))\n",
    "print('Accuracy of LDA classifier on test set: {:.2f}'\n",
    "     .format(lda.score(X_test, y_test)))"
   ]
  },
  {
   "cell_type": "code",
   "execution_count": 14,
   "metadata": {},
   "outputs": [
    {
     "name": "stdout",
     "output_type": "stream",
     "text": [
      "Accuracy of GNB classifier on training set: 0.84\n",
      "Accuracy of GNB classifier on test set: 0.70\n"
     ]
    }
   ],
   "source": [
    "from sklearn.naive_bayes import GaussianNB\n",
    "gnb = GaussianNB()\n",
    "gnb.fit(X_train, y_train)\n",
    "print('Accuracy of GNB classifier on training set: {:.2f}'\n",
    "     .format(gnb.score(X_train, y_train)))\n",
    "print('Accuracy of GNB classifier on test set: {:.2f}'\n",
    "     .format(gnb.score(X_test, y_test)))"
   ]
  },
  {
   "cell_type": "code",
   "execution_count": 169,
   "metadata": {},
   "outputs": [
    {
     "name": "stdout",
     "output_type": "stream",
     "text": [
      "Accuracy of SVM classifier on training set: 0.93\n",
      "Accuracy of SVM classifier on test set: 0.87\n"
     ]
    }
   ],
   "source": [
    "from sklearn.svm import SVC\n",
    "svm = SVC(gamma='scale')\n",
    "svm.fit(X_train, y_train)\n",
    "print('Accuracy of SVM classifier on training set: {:.2f}'\n",
    "     .format(svm.score(X_train, y_train)))\n",
    "print('Accuracy of SVM classifier on test set: {:.2f}'\n",
    "     .format(svm.score(X_test, y_test)))"
   ]
  },
  {
   "cell_type": "code",
   "execution_count": 175,
   "metadata": {},
   "outputs": [
    {
     "name": "stdout",
     "output_type": "stream",
     "text": [
      "Accuracy of GBC classifier on training set: 1.0000\n",
      "Accuracy of GBC classifier on test set: 0.9623\n"
     ]
    }
   ],
   "source": [
    "from sklearn.ensemble import GradientBoostingClassifier\n",
    "gbc = GradientBoostingClassifier(n_estimators=130,learning_rate=0.01,max_depth=5, random_state=0,\n",
    "                                 min_samples_leaf= 3, min_samples_split= 10,\n",
    "                                  max_features = 'sqrt' ,subsample = 0.8).fit(X_train, y_train)\n",
    "print('Accuracy of GBC classifier on training set: {:.4f}'\n",
    "     .format(gbc.score(X_train, y_train)))\n",
    "print('Accuracy of GBC classifier on test set: {:.4f}'\n",
    "     .format(gbc.score(X_test, y_test)))"
   ]
  },
  {
   "cell_type": "code",
   "execution_count": 101,
   "metadata": {},
   "outputs": [
    {
     "name": "stdout",
     "output_type": "stream",
     "text": [
      "Accuracy of GBr classifier on training set: 1.00\n",
      "Accuracy of GBr classifier on test set: 0.69\n"
     ]
    }
   ],
   "source": [
    "from sklearn.ensemble import GradientBoostingRegressor\n",
    "gbr = GradientBoostingRegressor(n_estimators=1000, learning_rate=0.01,max_depth=5,random_state=0,loss='ls').fit(X_train, y_train)\n",
    "print('Accuracy of GBr classifier on training set: {:.2f}'\n",
    "     .format(gbr.score(X_train, y_train)))\n",
    "print('Accuracy of GBr classifier on test set: {:.2f}'\n",
    "     .format(gbr.score(X_test, y_test)))"
   ]
  },
  {
   "cell_type": "code",
   "execution_count": 147,
   "metadata": {},
   "outputs": [
    {
     "name": "stdout",
     "output_type": "stream",
     "text": [
      "Accuracy of RFR classifier on training set: 1.00\n",
      "Accuracy of RFR classifier on test set: 0.69\n"
     ]
    },
    {
     "data": {
      "image/png": "[encoded data removed]",
      "text/plain": [
       "<Figure size 432x288 with 1 Axes>"
      ]
     },
     "metadata": {
      "needs_background": "light"
     },
     "output_type": "display_data"
    }
   ],
   "source": [
    "from sklearn.ensemble import RandomForestRegressor\n",
    "RFR = RandomForestRegressor(n_estimators=1500,min_samples_leaf=8, n_jobs=-1, random_state=0 ).fit(X_train, y_train)\n",
    "print('Accuracy of RFR classifier on training set: {:.2f}'\n",
    "     .format(gbr.score(X_train, y_train)))\n",
    "print('Accuracy of RFR classifier on test set: {:.2f}'\n",
    "     .format(gbr.score(X_test, y_test)))\n",
    "\n",
    "import numpy as np\n",
    "import matplotlib.pyplot as plt\n",
    "\n",
    "# Calculate feature importances\n",
    "importances = RFR.feature_importances_\n",
    "# Sort feature importances in descending order\n",
    "indices = np.argsort(importances)[::-1]\n",
    "\n",
    "# Rearrange feature names so they match the sorted feature importances\n",
    "names = [feature_names[i] for i in indices]\n",
    "\n",
    "# Barplot: Add bars\n",
    "plt.bar(range(X.shape[1]), importances[indices])\n",
    "# Add feature names as x-axis labels\n",
    "plt.xticks(range(X.shape[1]), names, rotation=90, fontsize = 8)\n",
    "# Create plot title\n",
    "plt.title(\"Feature Importance\")\n",
    "# Show plot\n",
    "plt.show()"
   ]
  },
  {
   "cell_type": "markdown",
   "metadata": {},
   "source": [
    "GradientBoostingClassifier is looking the best. I tuned the parameters a bit."
   ]
  },
  {
   "cell_type": "code",
   "execution_count": 174,
   "metadata": {},
   "outputs": [
    {
     "data": {
      "text/plain": [
       "({'mean_fit_time': array([1.43657718, 0.62564201, 0.55168419, 0.54548783, 0.54548759,\n",
       "         0.88389406, 0.54608693, 0.55168409, 0.54468789, 0.54408798,\n",
       "         0.7211874 , 0.54848585, 0.54448819, 0.5458868 , 0.55208373,\n",
       "         0.64303169, 0.54688621, 0.54368863, 0.54868574, 0.55408239,\n",
       "         0.64503059, 0.64942784, 0.65362568, 0.55628114, 0.54548783,\n",
       "         0.54868579, 0.55408244, 0.54488783, 0.54508753, 0.54468784,\n",
       "         0.5434886 , 0.54648695, 0.54888568, 0.55668116, 0.52390327]),\n",
       "  'std_fit_time': array([0.02108378, 0.02572253, 0.01688982, 0.00738224, 0.00556107,\n",
       "         0.00676725, 0.00837579, 0.00596326, 0.00948158, 0.00402761,\n",
       "         0.00754816, 0.00858314, 0.00499328, 0.00721771, 0.0116142 ,\n",
       "         0.01285522, 0.00883556, 0.00561791, 0.01001427, 0.00655666,\n",
       "         0.02568798, 0.04682328, 0.03369766, 0.01121086, 0.00248034,\n",
       "         0.0068373 , 0.00371815, 0.00627032, 0.00542302, 0.00414457,\n",
       "         0.0041162 , 0.00594304, 0.00563255, 0.01023155, 0.05631051]),\n",
       "  'mean_score_time': array([0.00339808, 0.00179887, 0.00159917, 0.00199909, 0.00159936,\n",
       "         0.00299811, 0.0017992 , 0.00179901, 0.00179925, 0.00119967,\n",
       "         0.00199866, 0.00159922, 0.00159926, 0.00139928, 0.00139918,\n",
       "         0.00219898, 0.00199919, 0.00139909, 0.00179911, 0.00119953,\n",
       "         0.00319848, 0.00199904, 0.00379806, 0.00139933, 0.00179887,\n",
       "         0.0019989 , 0.00179925, 0.00139914, 0.00159922, 0.00159912,\n",
       "         0.00179911, 0.00139923, 0.00139914, 0.00119944, 0.00119929]),\n",
       "  'std_score_time': array([4.89473229e-04, 3.99589567e-04, 4.89765144e-04, 2.78041453e-07,\n",
       "         4.89823562e-04, 5.84003864e-07, 3.99756442e-04, 3.99661160e-04,\n",
       "         4.00018877e-04, 3.99732661e-04, 3.37174788e-07, 4.89609386e-04,\n",
       "         4.89745664e-04, 4.89297918e-04, 4.89570445e-04, 3.99446559e-04,\n",
       "         2.78041453e-07, 4.89551027e-04, 3.99828000e-04, 3.99804154e-04,\n",
       "         2.39868166e-03, 3.23406696e-07, 4.61860862e-03, 4.89551027e-04,\n",
       "         3.99708844e-04, 3.37174788e-07, 3.99780387e-04, 4.89804047e-04,\n",
       "         4.89512062e-04, 4.89726210e-04, 3.99828085e-04, 4.89628840e-04,\n",
       "         4.89414718e-04, 3.99494200e-04, 7.47933157e-04]),\n",
       "  'param_min_samples_leaf': masked_array(data=[3, 3, 3, 3, 3, 13, 13, 13, 13, 13, 23, 23, 23, 23, 23,\n",
       "                     33, 33, 33, 33, 33, 43, 43, 43, 43, 43, 53, 53, 53, 53,\n",
       "                     53, 63, 63, 63, 63, 63],\n",
       "               mask=[False, False, False, False, False, False, False, False,\n",
       "                     False, False, False, False, False, False, False, False,\n",
       "                     False, False, False, False, False, False, False, False,\n",
       "                     False, False, False, False, False, False, False, False,\n",
       "                     False, False, False],\n",
       "         fill_value='?',\n",
       "              dtype=object),\n",
       "  'param_min_samples_split': masked_array(data=[10, 210, 410, 610, 810, 10, 210, 410, 610, 810, 10,\n",
       "                     210, 410, 610, 810, 10, 210, 410, 610, 810, 10, 210,\n",
       "                     410, 610, 810, 10, 210, 410, 610, 810, 10, 210, 410,\n",
       "                     610, 810],\n",
       "               mask=[False, False, False, False, False, False, False, False,\n",
       "                     False, False, False, False, False, False, False, False,\n",
       "                     False, False, False, False, False, False, False, False,\n",
       "                     False, False, False, False, False, False, False, False,\n",
       "                     False, False, False],\n",
       "         fill_value='?',\n",
       "              dtype=object),\n",
       "  'params': [{'min_samples_leaf': 3, 'min_samples_split': 10},\n",
       "   {'min_samples_leaf': 3, 'min_samples_split': 210},\n",
       "   {'min_samples_leaf': 3, 'min_samples_split': 410},\n",
       "   {'min_samples_leaf': 3, 'min_samples_split': 610},\n",
       "   {'min_samples_leaf': 3, 'min_samples_split': 810},\n",
       "   {'min_samples_leaf': 13, 'min_samples_split': 10},\n",
       "   {'min_samples_leaf': 13, 'min_samples_split': 210},\n",
       "   {'min_samples_leaf': 13, 'min_samples_split': 410},\n",
       "   {'min_samples_leaf': 13, 'min_samples_split': 610},\n",
       "   {'min_samples_leaf': 13, 'min_samples_split': 810},\n",
       "   {'min_samples_leaf': 23, 'min_samples_split': 10},\n",
       "   {'min_samples_leaf': 23, 'min_samples_split': 210},\n",
       "   {'min_samples_leaf': 23, 'min_samples_split': 410},\n",
       "   {'min_samples_leaf': 23, 'min_samples_split': 610},\n",
       "   {'min_samples_leaf': 23, 'min_samples_split': 810},\n",
       "   {'min_samples_leaf': 33, 'min_samples_split': 10},\n",
       "   {'min_samples_leaf': 33, 'min_samples_split': 210},\n",
       "   {'min_samples_leaf': 33, 'min_samples_split': 410},\n",
       "   {'min_samples_leaf': 33, 'min_samples_split': 610},\n",
       "   {'min_samples_leaf': 33, 'min_samples_split': 810},\n",
       "   {'min_samples_leaf': 43, 'min_samples_split': 10},\n",
       "   {'min_samples_leaf': 43, 'min_samples_split': 210},\n",
       "   {'min_samples_leaf': 43, 'min_samples_split': 410},\n",
       "   {'min_samples_leaf': 43, 'min_samples_split': 610},\n",
       "   {'min_samples_leaf': 43, 'min_samples_split': 810},\n",
       "   {'min_samples_leaf': 53, 'min_samples_split': 10},\n",
       "   {'min_samples_leaf': 53, 'min_samples_split': 210},\n",
       "   {'min_samples_leaf': 53, 'min_samples_split': 410},\n",
       "   {'min_samples_leaf': 53, 'min_samples_split': 610},\n",
       "   {'min_samples_leaf': 53, 'min_samples_split': 810},\n",
       "   {'min_samples_leaf': 63, 'min_samples_split': 10},\n",
       "   {'min_samples_leaf': 63, 'min_samples_split': 210},\n",
       "   {'min_samples_leaf': 63, 'min_samples_split': 410},\n",
       "   {'min_samples_leaf': 63, 'min_samples_split': 610},\n",
       "   {'min_samples_leaf': 63, 'min_samples_split': 810}],\n",
       "  'split0_test_score': array([0.94285714, 0.14285714, 0.14285714, 0.14285714, 0.14285714,\n",
       "         0.88571429, 0.14285714, 0.14285714, 0.14285714, 0.14285714,\n",
       "         0.85714286, 0.14285714, 0.14285714, 0.14285714, 0.14285714,\n",
       "         0.77142857, 0.14285714, 0.14285714, 0.14285714, 0.14285714,\n",
       "         0.77142857, 0.14285714, 0.14285714, 0.14285714, 0.14285714,\n",
       "         0.14285714, 0.14285714, 0.14285714, 0.14285714, 0.14285714,\n",
       "         0.14285714, 0.14285714, 0.14285714, 0.14285714, 0.14285714]),\n",
       "  'split1_test_score': array([0.75757576, 0.15151515, 0.15151515, 0.15151515, 0.15151515,\n",
       "         0.72727273, 0.15151515, 0.15151515, 0.15151515, 0.15151515,\n",
       "         0.66666667, 0.15151515, 0.15151515, 0.15151515, 0.15151515,\n",
       "         0.66666667, 0.15151515, 0.15151515, 0.15151515, 0.15151515,\n",
       "         0.60606061, 0.15151515, 0.15151515, 0.15151515, 0.15151515,\n",
       "         0.15151515, 0.15151515, 0.15151515, 0.15151515, 0.15151515,\n",
       "         0.15151515, 0.15151515, 0.15151515, 0.15151515, 0.15151515]),\n",
       "  'split2_test_score': array([0.83870968, 0.16129032, 0.16129032, 0.16129032, 0.16129032,\n",
       "         0.83870968, 0.16129032, 0.16129032, 0.16129032, 0.16129032,\n",
       "         0.77419355, 0.16129032, 0.16129032, 0.16129032, 0.16129032,\n",
       "         0.74193548, 0.16129032, 0.16129032, 0.16129032, 0.16129032,\n",
       "         0.74193548, 0.16129032, 0.16129032, 0.16129032, 0.16129032,\n",
       "         0.16129032, 0.16129032, 0.16129032, 0.16129032, 0.16129032,\n",
       "         0.16129032, 0.16129032, 0.16129032, 0.16129032, 0.16129032]),\n",
       "  'split3_test_score': array([1.        , 0.17241379, 0.17241379, 0.17241379, 0.17241379,\n",
       "         1.        , 0.17241379, 0.17241379, 0.17241379, 0.17241379,\n",
       "         0.96551724, 0.17241379, 0.17241379, 0.17241379, 0.17241379,\n",
       "         0.96551724, 0.17241379, 0.17241379, 0.17241379, 0.17241379,\n",
       "         0.86206897, 0.17241379, 0.17241379, 0.17241379, 0.17241379,\n",
       "         0.17241379, 0.17241379, 0.17241379, 0.17241379, 0.17241379,\n",
       "         0.17241379, 0.17241379, 0.17241379, 0.17241379, 0.17241379]),\n",
       "  'split4_test_score': array([0.82758621, 0.17241379, 0.17241379, 0.17241379, 0.17241379,\n",
       "         0.82758621, 0.17241379, 0.17241379, 0.17241379, 0.17241379,\n",
       "         0.82758621, 0.17241379, 0.17241379, 0.17241379, 0.17241379,\n",
       "         0.82758621, 0.17241379, 0.17241379, 0.17241379, 0.17241379,\n",
       "         0.72413793, 0.17241379, 0.17241379, 0.17241379, 0.17241379,\n",
       "         0.17241379, 0.17241379, 0.17241379, 0.17241379, 0.17241379,\n",
       "         0.17241379, 0.17241379, 0.17241379, 0.17241379, 0.17241379]),\n",
       "  'mean_test_score': array([0.87334576, 0.16009804, 0.16009804, 0.16009804, 0.16009804,\n",
       "         0.85585658, 0.16009804, 0.16009804, 0.16009804, 0.16009804,\n",
       "         0.8182213 , 0.16009804, 0.16009804, 0.16009804, 0.16009804,\n",
       "         0.79462683, 0.16009804, 0.16009804, 0.16009804, 0.16009804,\n",
       "         0.74112631, 0.16009804, 0.16009804, 0.16009804, 0.16009804,\n",
       "         0.16009804, 0.16009804, 0.16009804, 0.16009804, 0.16009804,\n",
       "         0.16009804, 0.16009804, 0.16009804, 0.16009804, 0.16009804]),\n",
       "  'std_test_score': array([0.08668266, 0.0116249 , 0.0116249 , 0.0116249 , 0.0116249 ,\n",
       "         0.08865195, 0.0116249 , 0.0116249 , 0.0116249 , 0.0116249 ,\n",
       "         0.09818954, 0.0116249 , 0.0116249 , 0.0116249 , 0.0116249 ,\n",
       "         0.09997819, 0.0116249 , 0.0116249 , 0.0116249 , 0.0116249 ,\n",
       "         0.08255587, 0.0116249 , 0.0116249 , 0.0116249 , 0.0116249 ,\n",
       "         0.0116249 , 0.0116249 , 0.0116249 , 0.0116249 , 0.0116249 ,\n",
       "         0.0116249 , 0.0116249 , 0.0116249 , 0.0116249 , 0.0116249 ]),\n",
       "  'rank_test_score': array([1, 6, 6, 6, 6, 2, 6, 6, 6, 6, 3, 6, 6, 6, 6, 4, 6, 6, 6, 6, 5, 6,\n",
       "         6, 6, 6, 6, 6, 6, 6, 6, 6, 6, 6, 6, 6]),\n",
       "  'split0_train_score': array([1.        , 0.16393443, 0.16393443, 0.16393443, 0.16393443,\n",
       "         0.97540984, 0.16393443, 0.16393443, 0.16393443, 0.16393443,\n",
       "         0.92622951, 0.16393443, 0.16393443, 0.16393443, 0.16393443,\n",
       "         0.83606557, 0.16393443, 0.16393443, 0.16393443, 0.16393443,\n",
       "         0.83606557, 0.16393443, 0.16393443, 0.16393443, 0.16393443,\n",
       "         0.16393443, 0.16393443, 0.16393443, 0.16393443, 0.16393443,\n",
       "         0.16393443, 0.16393443, 0.16393443, 0.16393443, 0.16393443]),\n",
       "  'split1_train_score': array([1.        , 0.16129032, 0.16129032, 0.16129032, 0.16129032,\n",
       "         0.98387097, 0.16129032, 0.16129032, 0.16129032, 0.16129032,\n",
       "         0.94354839, 0.16129032, 0.16129032, 0.16129032, 0.16129032,\n",
       "         0.92741935, 0.16129032, 0.16129032, 0.16129032, 0.16129032,\n",
       "         0.87096774, 0.16129032, 0.16129032, 0.16129032, 0.16129032,\n",
       "         0.16129032, 0.16129032, 0.16129032, 0.16129032, 0.16129032,\n",
       "         0.16129032, 0.16129032, 0.16129032, 0.16129032, 0.16129032]),\n",
       "  'split2_train_score': array([1.        , 0.15873016, 0.15873016, 0.15873016, 0.15873016,\n",
       "         0.97619048, 0.15873016, 0.15873016, 0.15873016, 0.15873016,\n",
       "         0.92857143, 0.15873016, 0.15873016, 0.15873016, 0.15873016,\n",
       "         0.8968254 , 0.15873016, 0.15873016, 0.15873016, 0.15873016,\n",
       "         0.84920635, 0.15873016, 0.15873016, 0.15873016, 0.15873016,\n",
       "         0.15873016, 0.15873016, 0.15873016, 0.15873016, 0.15873016,\n",
       "         0.15873016, 0.15873016, 0.15873016, 0.15873016, 0.15873016]),\n",
       "  'split3_train_score': array([1.       , 0.15625  , 0.15625  , 0.15625  , 0.15625  , 0.984375 ,\n",
       "         0.15625  , 0.15625  , 0.15625  , 0.15625  , 0.921875 , 0.15625  ,\n",
       "         0.15625  , 0.15625  , 0.15625  , 0.90625  , 0.15625  , 0.15625  ,\n",
       "         0.15625  , 0.15625  , 0.8359375, 0.15625  , 0.15625  , 0.15625  ,\n",
       "         0.15625  , 0.15625  , 0.15625  , 0.15625  , 0.15625  , 0.15625  ,\n",
       "         0.15625  , 0.15625  , 0.15625  , 0.15625  , 0.15625  ]),\n",
       "  'split4_train_score': array([1.       , 0.15625  , 0.15625  , 0.15625  , 0.15625  , 0.984375 ,\n",
       "         0.15625  , 0.15625  , 0.15625  , 0.15625  , 0.9375   , 0.15625  ,\n",
       "         0.15625  , 0.15625  , 0.15625  , 0.8984375, 0.15625  , 0.15625  ,\n",
       "         0.15625  , 0.15625  , 0.875    , 0.15625  , 0.15625  , 0.15625  ,\n",
       "         0.15625  , 0.15625  , 0.15625  , 0.15625  , 0.15625  , 0.15625  ,\n",
       "         0.15625  , 0.15625  , 0.15625  , 0.15625  , 0.15625  ]),\n",
       "  'mean_train_score': array([1.        , 0.15929098, 0.15929098, 0.15929098, 0.15929098,\n",
       "         0.98084426, 0.15929098, 0.15929098, 0.15929098, 0.15929098,\n",
       "         0.93154486, 0.15929098, 0.15929098, 0.15929098, 0.15929098,\n",
       "         0.89299957, 0.15929098, 0.15929098, 0.15929098, 0.15929098,\n",
       "         0.85343543, 0.15929098, 0.15929098, 0.15929098, 0.15929098,\n",
       "         0.15929098, 0.15929098, 0.15929098, 0.15929098, 0.15929098,\n",
       "         0.15929098, 0.15929098, 0.15929098, 0.15929098, 0.15929098]),\n",
       "  'std_train_score': array([0.        , 0.00297888, 0.00297888, 0.00297888, 0.00297888,\n",
       "         0.00412998, 0.00297888, 0.00297888, 0.00297888, 0.00297888,\n",
       "         0.0078759 , 0.00297888, 0.00297888, 0.00297888, 0.00297888,\n",
       "         0.03048273, 0.00297888, 0.00297888, 0.00297888, 0.00297888,\n",
       "         0.01672236, 0.00297888, 0.00297888, 0.00297888, 0.00297888,\n",
       "         0.00297888, 0.00297888, 0.00297888, 0.00297888, 0.00297888,\n",
       "         0.00297888, 0.00297888, 0.00297888, 0.00297888, 0.00297888])},\n",
       " {'min_samples_leaf': 3, 'min_samples_split': 10},\n",
       " 0.8733457569497615)"
      ]
     },
     "execution_count": 174,
     "metadata": {},
     "output_type": "execute_result"
    }
   ],
   "source": [
    "from sklearn.model_selection import GridSearchCV\n",
    "from sklearn.model_selection import cross_validate   #Additional scklearn functions\n",
    "\n",
    "#param_test1 = {'n_estimators':range(20,160,10)}\n",
    "#param_test1 = {'max_depth':range(2,10,1), 'min_samples_split':range(2,20,2)}\n",
    "param_test1 = {'min_samples_split':range(10,1000,200), 'min_samples_leaf':range(3,71,10)}\n",
    "gsearch1 = GridSearchCV(estimator = GradientBoostingClassifier(n_estimators=130,learning_rate=0.01, random_state=0,\n",
    "                                                               max_features = 'sqrt' ,subsample = 0.8,max_depth=5), \n",
    "param_grid = param_test1,n_jobs=4,iid=False, cv=5,return_train_score=True)\n",
    "gsearch1.fit(X_train, y_train)\n",
    "gsearch1.cv_results_, gsearch1.best_params_, gsearch1.best_score_"
   ]
  },
  {
   "cell_type": "code",
   "execution_count": 176,
   "metadata": {},
   "outputs": [
    {
     "name": "stdout",
     "output_type": "stream",
     "text": [
      "[[5 0 1 0 0 0 1]\n",
      " [0 9 0 0 0 0 0]\n",
      " [0 0 8 0 0 0 0]\n",
      " [0 0 0 8 0 0 0]\n",
      " [0 0 0 0 7 0 0]\n",
      " [0 0 0 0 0 9 0]\n",
      " [0 0 0 0 0 0 5]]\n",
      "              precision    recall  f1-score   support\n",
      "\n",
      "           0       1.00      0.71      0.83         7\n",
      "           1       1.00      1.00      1.00         9\n",
      "           2       0.89      1.00      0.94         8\n",
      "           3       1.00      1.00      1.00         8\n",
      "           4       1.00      1.00      1.00         7\n",
      "           5       1.00      1.00      1.00         9\n",
      "           6       0.83      1.00      0.91         5\n",
      "\n",
      "   micro avg       0.96      0.96      0.96        53\n",
      "   macro avg       0.96      0.96      0.95        53\n",
      "weighted avg       0.97      0.96      0.96        53\n",
      "\n"
     ]
    }
   ],
   "source": [
    "from sklearn.metrics import classification_report\n",
    "from sklearn.metrics import confusion_matrix\n",
    "pred = gbc.predict(X_test)\n",
    "print(confusion_matrix(y_test, pred))\n",
    "print(classification_report(y_test, pred))"
   ]
  },
  {
   "cell_type": "markdown",
   "metadata": {},
   "source": [
    "### Now to appply the model to the data for submission"
   ]
  },
  {
   "cell_type": "code",
   "execution_count": 177,
   "metadata": {},
   "outputs": [
    {
     "data": {
      "text/plain": [
       "array([[0.21214161, 0.19746166, 0.30564304, ..., 0.06974365, 0.06904711,\n",
       "        0.07643997],\n",
       "       [0.06675605, 0.09901627, 0.06246527, ..., 0.48117776, 0.06007708,\n",
       "        0.17161752],\n",
       "       [0.03004994, 0.02536965, 0.02967072, ..., 0.02776488, 0.02391394,\n",
       "        0.03819913],\n",
       "       ...,\n",
       "       [0.0330843 , 0.02517632, 0.02488484, ..., 0.02596187, 0.02569253,\n",
       "        0.05649999],\n",
       "       [0.03642565, 0.03126121, 0.02614367, ..., 0.02549057, 0.81793242,\n",
       "        0.03738532],\n",
       "       [0.02487643, 0.02462755, 0.02480054, ..., 0.8437803 , 0.02467343,\n",
       "        0.0324544 ]])"
      ]
     },
     "execution_count": 177,
     "metadata": {},
     "output_type": "execute_result"
    }
   ],
   "source": [
    "trained_model=gbc.fit(X_train, y_train)\n",
    "images_sub = pd.read_csv('test.csv')\n",
    "X_sub = images_sub[feature_names]\n",
    "X_sub = scaler.transform(X_sub)\n",
    "result_matrix=trained_model.predict(X_sub)\n",
    "y_sub=images_sub['id']\n",
    "trained_model.predict_proba(X_sub)"
   ]
  },
  {
   "cell_type": "code",
   "execution_count": 178,
   "metadata": {},
   "outputs": [],
   "source": [
    "Submission=pd.DataFrame(trained_model.predict_proba(X_sub))\n",
    "#Submission=Submission.assign(id=y_sub)\n",
    "Submission.columns=[\"CLASS_0\",\"CLASS_1\",\"CLASS_2\",\"CLASS_3\",\"CLASS_4\",\"CLASS_5\",\"CLASS_6\"]\n",
    "Submission.head()\n",
    "Submission.to_csv('solution2a.csv')"
   ]
  },
  {
   "cell_type": "code",
   "execution_count": null,
   "metadata": {},
   "outputs": [],
   "source": []
  }
 ],
 "metadata": {
  "kernelspec": {
   "display_name": "Python 3",
   "language": "python",
   "name": "python3"
  },
  "language_info": {
   "codemirror_mode": {
    "name": "ipython",
    "version": 3
   },
   "file_extension": ".py",
   "mimetype": "text/x-python",
   "name": "python",
   "nbconvert_exporter": "python",
   "pygments_lexer": "ipython3",
   "version": "3.7.3"
  }
 },
 "nbformat": 4,
 "nbformat_minor": 2
}
